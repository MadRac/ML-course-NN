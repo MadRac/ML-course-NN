{
 "cells": [
  {
   "cell_type": "code",
   "execution_count": 1,
   "metadata": {},
   "outputs": [
    {
     "name": "stderr",
     "output_type": "stream",
     "text": [
      "Using TensorFlow backend.\n"
     ]
    },
    {
     "data": {
      "text/plain": [
       "'2.2.4'"
      ]
     },
     "execution_count": 1,
     "metadata": {},
     "output_type": "execute_result"
    }
   ],
   "source": [
    "import keras\n",
    "keras.__version__"
   ]
  },
  {
   "cell_type": "code",
   "execution_count": 2,
   "metadata": {},
   "outputs": [],
   "source": [
    "from keras.datasets import imdb\n",
    "import numpy as np\n",
    "\n",
    "(train_data, train_labels), (test_data, test_labels) = imdb.load_data(num_words=10000)\n",
    "\n",
    "def vectorize_sequences(sequences, dimension=10000):\n",
    "    # Create an all-zero matrix of shape (len(sequences), dimension)\n",
    "    results = np.zeros((len(sequences), dimension))\n",
    "    for i, sequence in enumerate(sequences):\n",
    "        results[i, sequence] = 1.  # set specific indices of results[i] to 1s\n",
    "    return results\n",
    "\n",
    "# Our vectorized training data\n",
    "x_train = vectorize_sequences(train_data)\n",
    "# Our vectorized test data\n",
    "x_test = vectorize_sequences(test_data)\n",
    "# Our vectorized labels\n",
    "y_train = np.asarray(train_labels).astype('float32')\n",
    "y_test = np.asarray(test_labels).astype('float32')"
   ]
  },
  {
   "cell_type": "markdown",
   "metadata": {},
   "source": [
    "## Уменьшение размера сети"
   ]
  },
  {
   "cell_type": "code",
   "execution_count": 7,
   "metadata": {},
   "outputs": [
    {
     "name": "stdout",
     "output_type": "stream",
     "text": [
      "_________________________________________________________________\n",
      "Layer (type)                 Output Shape              Param #   \n",
      "=================================================================\n",
      "dense_7 (Dense)              (None, 16)                160016    \n",
      "_________________________________________________________________\n",
      "dense_8 (Dense)              (None, 16)                272       \n",
      "_________________________________________________________________\n",
      "dense_9 (Dense)              (None, 1)                 17        \n",
      "=================================================================\n",
      "Total params: 160,305\n",
      "Trainable params: 160,305\n",
      "Non-trainable params: 0\n",
      "_________________________________________________________________\n"
     ]
    }
   ],
   "source": [
    "from keras import models\n",
    "from keras import layers\n",
    "\n",
    "original_model = models.Sequential()\n",
    "original_model.add(layers.Dense(16, activation='relu', input_shape=(10000,)))\n",
    "original_model.add(layers.Dense(16, activation='relu'))\n",
    "original_model.add(layers.Dense(1, activation='sigmoid'))\n",
    "\n",
    "original_model.compile(optimizer='rmsprop',\n",
    "                       loss='binary_crossentropy',\n",
    "                       metrics=['acc'])\n",
    "original_model.summary()"
   ]
  },
  {
   "cell_type": "code",
   "execution_count": 8,
   "metadata": {},
   "outputs": [
    {
     "name": "stdout",
     "output_type": "stream",
     "text": [
      "_________________________________________________________________\n",
      "Layer (type)                 Output Shape              Param #   \n",
      "=================================================================\n",
      "dense_10 (Dense)             (None, 6)                 60006     \n",
      "_________________________________________________________________\n",
      "dense_11 (Dense)             (None, 6)                 42        \n",
      "_________________________________________________________________\n",
      "dense_12 (Dense)             (None, 1)                 7         \n",
      "=================================================================\n",
      "Total params: 60,055\n",
      "Trainable params: 60,055\n",
      "Non-trainable params: 0\n",
      "_________________________________________________________________\n"
     ]
    }
   ],
   "source": [
    "smaller_model = models.Sequential()\n",
    "smaller_model.add(layers.Dense(6, activation='relu', input_shape=(10000,)))\n",
    "smaller_model.add(layers.Dense(6, activation='relu'))\n",
    "smaller_model.add(layers.Dense(1, activation='sigmoid'))\n",
    "\n",
    "smaller_model.compile(optimizer='rmsprop',\n",
    "                      loss='binary_crossentropy',\n",
    "                      metrics=['acc'])\n",
    "smaller_model.summary()"
   ]
  },
  {
   "cell_type": "code",
   "execution_count": 5,
   "metadata": {},
   "outputs": [
    {
     "name": "stdout",
     "output_type": "stream",
     "text": [
      "Train on 25000 samples, validate on 25000 samples\n",
      "Epoch 1/20\n",
      "25000/25000 [==============================] - 13s 516us/step - loss: 0.4440 - acc: 0.8251 - val_loss: 0.3286 - val_acc: 0.8834\n",
      "Epoch 2/20\n",
      "25000/25000 [==============================] - 10s 419us/step - loss: 0.2572 - acc: 0.9078 - val_loss: 0.2864 - val_acc: 0.8882\n",
      "Epoch 3/20\n",
      "25000/25000 [==============================] - 9s 352us/step - loss: 0.1991 - acc: 0.9293 - val_loss: 0.2821 - val_acc: 0.8889\n",
      "Epoch 4/20\n",
      "25000/25000 [==============================] - 8s 338us/step - loss: 0.1668 - acc: 0.9415 - val_loss: 0.2941 - val_acc: 0.8846\n",
      "Epoch 5/20\n",
      "25000/25000 [==============================] - 9s 351us/step - loss: 0.1437 - acc: 0.9498 - val_loss: 0.3118 - val_acc: 0.8804\n",
      "Epoch 6/20\n",
      "25000/25000 [==============================] - 9s 347us/step - loss: 0.1262 - acc: 0.9554 - val_loss: 0.3495 - val_acc: 0.8717\n",
      "Epoch 7/20\n",
      "25000/25000 [==============================] - 9s 350us/step - loss: 0.1110 - acc: 0.9616 - val_loss: 0.3599 - val_acc: 0.8725\n",
      "Epoch 8/20\n",
      "25000/25000 [==============================] - 9s 364us/step - loss: 0.0985 - acc: 0.9663 - val_loss: 0.3944 - val_acc: 0.8670\n",
      "Epoch 9/20\n",
      "25000/25000 [==============================] - 8s 334us/step - loss: 0.0846 - acc: 0.9722 - val_loss: 0.4231 - val_acc: 0.8643\n",
      "Epoch 10/20\n",
      "25000/25000 [==============================] - 9s 364us/step - loss: 0.0764 - acc: 0.9751 - val_loss: 0.4920 - val_acc: 0.8537\n",
      "Epoch 11/20\n",
      "25000/25000 [==============================] - 10s 394us/step - loss: 0.0693 - acc: 0.9776 - val_loss: 0.4902 - val_acc: 0.8584\n",
      "Epoch 12/20\n",
      "25000/25000 [==============================] - 10s 418us/step - loss: 0.0576 - acc: 0.9824 - val_loss: 0.5198 - val_acc: 0.8566\n",
      "Epoch 13/20\n",
      "25000/25000 [==============================] - 11s 431us/step - loss: 0.0524 - acc: 0.9840 - val_loss: 0.5343 - val_acc: 0.8579\n",
      "Epoch 14/20\n",
      "25000/25000 [==============================] - 10s 383us/step - loss: 0.0434 - acc: 0.9874 - val_loss: 0.6155 - val_acc: 0.8487\n",
      "Epoch 15/20\n",
      "25000/25000 [==============================] - 8s 334us/step - loss: 0.0377 - acc: 0.9888 - val_loss: 0.6103 - val_acc: 0.8551\n",
      "Epoch 16/20\n",
      "25000/25000 [==============================] - 8s 330us/step - loss: 0.0320 - acc: 0.9906 - val_loss: 0.6408 - val_acc: 0.8548\n",
      "Epoch 17/20\n",
      "25000/25000 [==============================] - 8s 327us/step - loss: 0.0264 - acc: 0.9929 - val_loss: 0.7183 - val_acc: 0.8475\n",
      "Epoch 18/20\n",
      "25000/25000 [==============================] - 8s 327us/step - loss: 0.0251 - acc: 0.9928 - val_loss: 0.7455 - val_acc: 0.8466\n",
      "Epoch 19/20\n",
      "25000/25000 [==============================] - 8s 324us/step - loss: 0.0193 - acc: 0.9948 - val_loss: 0.7519 - val_acc: 0.8506\n",
      "Epoch 20/20\n",
      "25000/25000 [==============================] - 9s 340us/step - loss: 0.0157 - acc: 0.9962 - val_loss: 0.8615 - val_acc: 0.8413\n"
     ]
    }
   ],
   "source": [
    "original_hist = original_model.fit(x_train, y_train,\n",
    "                                   epochs=20,\n",
    "                                   batch_size=512,\n",
    "                                   validation_data=(x_test, y_test))"
   ]
  },
  {
   "cell_type": "code",
   "execution_count": 6,
   "metadata": {},
   "outputs": [
    {
     "name": "stdout",
     "output_type": "stream",
     "text": [
      "Train on 25000 samples, validate on 25000 samples\n",
      "Epoch 1/20\n",
      "25000/25000 [==============================] - 8s 338us/step - loss: 0.5670 - acc: 0.7410 - val_loss: 0.4849 - val_acc: 0.8256\n",
      "Epoch 2/20\n",
      "25000/25000 [==============================] - 9s 368us/step - loss: 0.3924 - acc: 0.8895 - val_loss: 0.3608 - val_acc: 0.8781\n",
      "Epoch 3/20\n",
      "25000/25000 [==============================] - 8s 322us/step - loss: 0.2791 - acc: 0.9175 - val_loss: 0.3012 - val_acc: 0.8879\n",
      "Epoch 4/20\n",
      "25000/25000 [==============================] - 8s 327us/step - loss: 0.2214 - acc: 0.9279 - val_loss: 0.2823 - val_acc: 0.8900\n",
      "Epoch 5/20\n",
      "25000/25000 [==============================] - 9s 379us/step - loss: 0.1877 - acc: 0.9375 - val_loss: 0.2815 - val_acc: 0.8868\n",
      "Epoch 6/20\n",
      "25000/25000 [==============================] - 8s 314us/step - loss: 0.1649 - acc: 0.9449 - val_loss: 0.2858 - val_acc: 0.8856\n",
      "Epoch 7/20\n",
      "25000/25000 [==============================] - 8s 319us/step - loss: 0.1467 - acc: 0.9519 - val_loss: 0.2957 - val_acc: 0.8818\n",
      "Epoch 8/20\n",
      "25000/25000 [==============================] - 8s 318us/step - loss: 0.1331 - acc: 0.9559 - val_loss: 0.3067 - val_acc: 0.8797\n",
      "Epoch 9/20\n",
      "25000/25000 [==============================] - 8s 316us/step - loss: 0.1196 - acc: 0.9620 - val_loss: 0.3218 - val_acc: 0.8777\n",
      "Epoch 10/20\n",
      "25000/25000 [==============================] - 8s 329us/step - loss: 0.1095 - acc: 0.9650 - val_loss: 0.3360 - val_acc: 0.8751\n",
      "Epoch 11/20\n",
      "25000/25000 [==============================] - 8s 318us/step - loss: 0.0988 - acc: 0.9690 - val_loss: 0.3554 - val_acc: 0.8714\n",
      "Epoch 12/20\n",
      "25000/25000 [==============================] - 8s 316us/step - loss: 0.0898 - acc: 0.9728 - val_loss: 0.3790 - val_acc: 0.8696\n",
      "Epoch 13/20\n",
      "25000/25000 [==============================] - 8s 337us/step - loss: 0.0816 - acc: 0.9756 - val_loss: 0.3909 - val_acc: 0.8677\n",
      "Epoch 14/20\n",
      "25000/25000 [==============================] - 8s 317us/step - loss: 0.0744 - acc: 0.9769 - val_loss: 0.4132 - val_acc: 0.8652\n",
      "Epoch 15/20\n",
      "25000/25000 [==============================] - 8s 337us/step - loss: 0.0675 - acc: 0.9803 - val_loss: 0.4405 - val_acc: 0.8628\n",
      "Epoch 16/20\n",
      "25000/25000 [==============================] - 9s 354us/step - loss: 0.0606 - acc: 0.9827 - val_loss: 0.4644 - val_acc: 0.8606\n",
      "Epoch 17/20\n",
      "25000/25000 [==============================] - 9s 348us/step - loss: 0.0554 - acc: 0.9840 - val_loss: 0.4748 - val_acc: 0.8612\n",
      "Epoch 18/20\n",
      "25000/25000 [==============================] - 9s 376us/step - loss: 0.0500 - acc: 0.9869 - val_loss: 0.5085 - val_acc: 0.8589\n",
      "Epoch 19/20\n",
      "25000/25000 [==============================] - 9s 349us/step - loss: 0.0457 - acc: 0.9883 - val_loss: 0.5221 - val_acc: 0.8586\n",
      "Epoch 20/20\n",
      "25000/25000 [==============================] - 8s 328us/step - loss: 0.0409 - acc: 0.9898 - val_loss: 0.5752 - val_acc: 0.8528\n"
     ]
    }
   ],
   "source": [
    "smaller_model_hist = smaller_model.fit(x_train, y_train,\n",
    "                                       epochs=20,\n",
    "                                       batch_size=512,\n",
    "                                       validation_data=(x_test, y_test))"
   ]
  },
  {
   "cell_type": "code",
   "execution_count": 9,
   "metadata": {},
   "outputs": [],
   "source": [
    "epochs = range(1, 21)\n",
    "original_val_loss = original_hist.history['val_loss']\n",
    "smaller_model_val_loss = smaller_model_hist.history['val_loss']"
   ]
  },
  {
   "cell_type": "code",
   "execution_count": 10,
   "metadata": {},
   "outputs": [
    {
     "data": {
      "image/png": "[encoded data removed]",
      "text/plain": [
       "<Figure size 432x288 with 1 Axes>"
      ]
     },
     "metadata": {
      "needs_background": "light"
     },
     "output_type": "display_data"
    }
   ],
   "source": [
    "import matplotlib.pyplot as plt\n",
    "%matplotlib inline\n",
    "\n",
    "# b+ is for \"blue cross\"\n",
    "plt.plot(epochs, original_val_loss, 'b+', label='Original model')\n",
    "# \"bo\" is for \"blue dot\"\n",
    "plt.plot(epochs, smaller_model_val_loss, 'bo', label='Smaller model')\n",
    "plt.xlabel('Epochs')\n",
    "plt.ylabel('Validation loss')\n",
    "plt.legend()\n",
    "\n",
    "plt.show()"
   ]
  },
  {
   "cell_type": "code",
   "execution_count": null,
   "metadata": {},
   "outputs": [],
   "source": [
    "bigger_model = models.Sequential()\n",
    "bigger_model.add(layers.Dense(512, activation='relu', input_shape=(10000,)))\n",
    "bigger_model.add(layers.Dense(512, activation='relu'))\n",
    "bigger_model.add(layers.Dense(1, activation='sigmoid'))\n",
    "\n",
    "bigger_model.compile(optimizer='rmsprop',\n",
    "                     loss='binary_crossentropy',\n",
    "                     metrics=['acc'])"
   ]
  },
  {
   "cell_type": "code",
   "execution_count": null,
   "metadata": {},
   "outputs": [],
   "source": [
    "bigger_model_hist = bigger_model.fit(x_train, y_train,\n",
    "                                     epochs=20,\n",
    "                                     batch_size=512,\n",
    "                                     validation_data=(x_test, y_test))"
   ]
  },
  {
   "cell_type": "code",
   "execution_count": null,
   "metadata": {},
   "outputs": [],
   "source": [
    "bigger_model_val_loss = bigger_model_hist.history['val_loss']\n",
    "\n",
    "plt.plot(epochs, original_val_loss, 'b+', label='Original model')\n",
    "plt.plot(epochs, bigger_model_val_loss, 'bo', label='Bigger model')\n",
    "plt.xlabel('Epochs')\n",
    "plt.ylabel('Validation loss')\n",
    "plt.legend()\n",
    "\n",
    "plt.show()"
   ]
  },
  {
   "cell_type": "code",
   "execution_count": null,
   "metadata": {},
   "outputs": [],
   "source": [
    "original_train_loss = original_hist.history['loss']\n",
    "bigger_model_train_loss = bigger_model_hist.history['loss']\n",
    "\n",
    "plt.plot(epochs, original_train_loss, 'b+', label='Original model')\n",
    "plt.plot(epochs, bigger_model_train_loss, 'bo', label='Bigger model')\n",
    "plt.xlabel('Epochs')\n",
    "plt.ylabel('Training loss')\n",
    "plt.legend()\n",
    "\n",
    "plt.show()"
   ]
  },
  {
   "cell_type": "markdown",
   "metadata": {},
   "source": [
    "## Регуляризация весов"
   ]
  },
  {
   "cell_type": "code",
   "execution_count": 11,
   "metadata": {},
   "outputs": [],
   "source": [
    "from keras import regularizers\n",
    "\n",
    "l2_model = models.Sequential()\n",
    "l2_model.add(layers.Dense(16, kernel_regularizer=regularizers.l2(0.001),\n",
    "                          activation='relu', input_shape=(10000,)))\n",
    "l2_model.add(layers.Dense(16, kernel_regularizer=regularizers.l2(0.001),\n",
    "                          activation='relu'))\n",
    "l2_model.add(layers.Dense(1, activation='sigmoid'))"
   ]
  },
  {
   "cell_type": "code",
   "execution_count": 12,
   "metadata": {},
   "outputs": [],
   "source": [
    "l2_model.compile(optimizer='rmsprop',\n",
    "                 loss='binary_crossentropy',\n",
    "                 metrics=['acc'])"
   ]
  },
  {
   "cell_type": "code",
   "execution_count": 13,
   "metadata": {},
   "outputs": [
    {
     "name": "stdout",
     "output_type": "stream",
     "text": [
      "Train on 25000 samples, validate on 25000 samples\n",
      "Epoch 1/20\n",
      "25000/25000 [==============================] - 9s 356us/step - loss: 0.4850 - acc: 0.8252 - val_loss: 0.3891 - val_acc: 0.8680\n",
      "Epoch 2/20\n",
      "25000/25000 [==============================] - 8s 321us/step - loss: 0.3142 - acc: 0.9058 - val_loss: 0.3521 - val_acc: 0.8774\n",
      "Epoch 3/20\n",
      "25000/25000 [==============================] - 8s 327us/step - loss: 0.2696 - acc: 0.9214 - val_loss: 0.3316 - val_acc: 0.8867\n",
      "Epoch 4/20\n",
      "25000/25000 [==============================] - 8s 329us/step - loss: 0.2474 - acc: 0.9296 - val_loss: 0.3315 - val_acc: 0.8869\n",
      "Epoch 5/20\n",
      "25000/25000 [==============================] - 8s 323us/step - loss: 0.2386 - acc: 0.9324 - val_loss: 0.3407 - val_acc: 0.8834\n",
      "Epoch 6/20\n",
      "25000/25000 [==============================] - 8s 324us/step - loss: 0.2280 - acc: 0.9361 - val_loss: 0.3495 - val_acc: 0.8823\n",
      "Epoch 7/20\n",
      "25000/25000 [==============================] - 8s 327us/step - loss: 0.2222 - acc: 0.9396 - val_loss: 0.3523 - val_acc: 0.8812\n",
      "Epoch 8/20\n",
      "25000/25000 [==============================] - 8s 325us/step - loss: 0.2161 - acc: 0.9418 - val_loss: 0.3808 - val_acc: 0.8727\n",
      "Epoch 9/20\n",
      "25000/25000 [==============================] - 8s 322us/step - loss: 0.2162 - acc: 0.9424 - val_loss: 0.3741 - val_acc: 0.8740\n",
      "Epoch 10/20\n",
      "25000/25000 [==============================] - 8s 323us/step - loss: 0.2084 - acc: 0.9447 - val_loss: 0.3959 - val_acc: 0.8684\n",
      "Epoch 11/20\n",
      "25000/25000 [==============================] - 9s 343us/step - loss: 0.2047 - acc: 0.9466 - val_loss: 0.3781 - val_acc: 0.8752\n",
      "Epoch 12/20\n",
      "25000/25000 [==============================] - 8s 321us/step - loss: 0.2035 - acc: 0.9456 - val_loss: 0.4165 - val_acc: 0.8649\n",
      "Epoch 13/20\n",
      "25000/25000 [==============================] - 8s 325us/step - loss: 0.1996 - acc: 0.9474 - val_loss: 0.3948 - val_acc: 0.8716\n",
      "Epoch 14/20\n",
      "25000/25000 [==============================] - 8s 325us/step - loss: 0.1990 - acc: 0.9473 - val_loss: 0.4379 - val_acc: 0.8606\n",
      "Epoch 15/20\n",
      "25000/25000 [==============================] - 9s 343us/step - loss: 0.1937 - acc: 0.9490 - val_loss: 0.4015 - val_acc: 0.8720\n",
      "Epoch 16/20\n",
      "25000/25000 [==============================] - 8s 327us/step - loss: 0.1927 - acc: 0.9488 - val_loss: 0.4001 - val_acc: 0.8715\n",
      "Epoch 17/20\n",
      "25000/25000 [==============================] - 8s 325us/step - loss: 0.1882 - acc: 0.9531 - val_loss: 0.4099 - val_acc: 0.8690\n",
      "Epoch 18/20\n",
      "25000/25000 [==============================] - 8s 336us/step - loss: 0.1877 - acc: 0.9516 - val_loss: 0.4186 - val_acc: 0.8666\n",
      "Epoch 19/20\n",
      "25000/25000 [==============================] - 8s 327us/step - loss: 0.1898 - acc: 0.9505 - val_loss: 0.4172 - val_acc: 0.8668\n",
      "Epoch 20/20\n",
      "25000/25000 [==============================] - 8s 325us/step - loss: 0.1791 - acc: 0.9543 - val_loss: 0.4179 - val_acc: 0.8677\n"
     ]
    }
   ],
   "source": [
    "l2_model_hist = l2_model.fit(x_train, y_train,\n",
    "                             epochs=20,\n",
    "                             batch_size=512,\n",
    "                             validation_data=(x_test, y_test))"
   ]
  },
  {
   "cell_type": "code",
   "execution_count": 14,
   "metadata": {},
   "outputs": [
    {
     "data": {
      "image/png": "[encoded data removed]",
      "text/plain": [
       "<Figure size 432x288 with 1 Axes>"
      ]
     },
     "metadata": {
      "needs_background": "light"
     },
     "output_type": "display_data"
    }
   ],
   "source": [
    "l2_model_val_loss = l2_model_hist.history['val_loss']\n",
    "\n",
    "plt.plot(epochs, original_val_loss, 'b+', label='Original model')\n",
    "plt.plot(epochs, l2_model_val_loss, 'bo', label='L2-regularized model')\n",
    "plt.xlabel('Epochs')\n",
    "plt.ylabel('Validation loss')\n",
    "plt.legend()\n",
    "\n",
    "plt.show()"
   ]
  },
  {
   "cell_type": "code",
   "execution_count": null,
   "metadata": {},
   "outputs": [],
   "source": [
    "from keras import regularizers\n",
    "\n",
    "# L1 regularization\n",
    "regularizers.l1(0.001)\n",
    "\n",
    "# L1 and L2 regularization at the same time\n",
    "regularizers.l1_l2(l1=0.001, l2=0.001)"
   ]
  },
  {
   "cell_type": "markdown",
   "metadata": {},
   "source": [
    "## прореживание"
   ]
  },
  {
   "cell_type": "code",
   "execution_count": null,
   "metadata": {},
   "outputs": [],
   "source": [
    "# At training time: we drop out 50% of the units in the output\n",
    "#layer_output *= np.randint(0, high=2, size=layer_output.shape)"
   ]
  },
  {
   "cell_type": "code",
   "execution_count": null,
   "metadata": {},
   "outputs": [],
   "source": [
    "# At test time:\n",
    "#layer_output *= 0.5"
   ]
  },
  {
   "cell_type": "code",
   "execution_count": null,
   "metadata": {},
   "outputs": [],
   "source": [
    "# At training time:\n",
    "#layer_output *= np.randint(0, high=2, size=layer_output.shape)\n",
    "# Note that we are scaling *up* rather scaling *down* in this case\n",
    "#layer_output /= 0.5"
   ]
  },
  {
   "cell_type": "code",
   "execution_count": null,
   "metadata": {},
   "outputs": [],
   "source": [
    "#model.add(layers.Dropout(0.5))"
   ]
  },
  {
   "cell_type": "code",
   "execution_count": null,
   "metadata": {},
   "outputs": [],
   "source": []
  },
  {
   "cell_type": "code",
   "execution_count": 15,
   "metadata": {},
   "outputs": [],
   "source": [
    "dpt_model = models.Sequential()\n",
    "dpt_model.add(layers.Dense(16, activation='relu', input_shape=(10000,)))\n",
    "dpt_model.add(layers.Dropout(0.5))\n",
    "dpt_model.add(layers.Dense(16, activation='relu'))\n",
    "dpt_model.add(layers.Dropout(0.5))\n",
    "dpt_model.add(layers.Dense(1, activation='sigmoid'))\n",
    "\n",
    "dpt_model.compile(optimizer='rmsprop',\n",
    "                  loss='binary_crossentropy',\n",
    "                  metrics=['acc'])"
   ]
  },
  {
   "cell_type": "code",
   "execution_count": 16,
   "metadata": {},
   "outputs": [
    {
     "name": "stdout",
     "output_type": "stream",
     "text": [
      "Train on 25000 samples, validate on 25000 samples\n",
      "Epoch 1/20\n",
      "25000/25000 [==============================] - 9s 380us/step - loss: 0.5590 - acc: 0.7174 - val_loss: 0.4084 - val_acc: 0.8623\n",
      "Epoch 2/20\n",
      "25000/25000 [==============================] - 9s 360us/step - loss: 0.4039 - acc: 0.8414 - val_loss: 0.3117 - val_acc: 0.8860\n",
      "Epoch 3/20\n",
      "25000/25000 [==============================] - 9s 343us/step - loss: 0.3308 - acc: 0.8835 - val_loss: 0.2865 - val_acc: 0.8895\n",
      "Epoch 4/20\n",
      "25000/25000 [==============================] - 9s 375us/step - loss: 0.2790 - acc: 0.9046 - val_loss: 0.2800 - val_acc: 0.8882\n",
      "Epoch 5/20\n",
      "25000/25000 [==============================] - 9s 367us/step - loss: 0.2445 - acc: 0.9191 - val_loss: 0.2897 - val_acc: 0.8890\n",
      "Epoch 6/20\n",
      "25000/25000 [==============================] - 8s 340us/step - loss: 0.2205 - acc: 0.9285 - val_loss: 0.3015 - val_acc: 0.8835\n",
      "Epoch 7/20\n",
      "25000/25000 [==============================] - 9s 345us/step - loss: 0.1963 - acc: 0.9377 - val_loss: 0.3204 - val_acc: 0.8839\n",
      "Epoch 8/20\n",
      "25000/25000 [==============================] - 8s 330us/step - loss: 0.1796 - acc: 0.9418 - val_loss: 0.3428 - val_acc: 0.8824\n",
      "Epoch 9/20\n",
      "25000/25000 [==============================] - 9s 350us/step - loss: 0.1669 - acc: 0.9456 - val_loss: 0.3546 - val_acc: 0.8810\n",
      "Epoch 10/20\n",
      "25000/25000 [==============================] - 8s 325us/step - loss: 0.1553 - acc: 0.9510 - val_loss: 0.3798 - val_acc: 0.8806\n",
      "Epoch 11/20\n",
      "25000/25000 [==============================] - 8s 333us/step - loss: 0.1470 - acc: 0.9538 - val_loss: 0.3962 - val_acc: 0.8779\n",
      "Epoch 12/20\n",
      "25000/25000 [==============================] - 8s 332us/step - loss: 0.1371 - acc: 0.9583 - val_loss: 0.4523 - val_acc: 0.8759\n",
      "Epoch 13/20\n",
      "25000/25000 [==============================] - 8s 327us/step - loss: 0.1356 - acc: 0.9582 - val_loss: 0.4375 - val_acc: 0.8748\n",
      "Epoch 14/20\n",
      "25000/25000 [==============================] - 8s 326us/step - loss: 0.1236 - acc: 0.9622 - val_loss: 0.4747 - val_acc: 0.8760\n",
      "Epoch 15/20\n",
      "25000/25000 [==============================] - 8s 326us/step - loss: 0.1233 - acc: 0.9608 - val_loss: 0.5042 - val_acc: 0.8756\n",
      "Epoch 16/20\n",
      "25000/25000 [==============================] - 9s 350us/step - loss: 0.1187 - acc: 0.9644 - val_loss: 0.5177 - val_acc: 0.8748\n",
      "Epoch 17/20\n",
      "25000/25000 [==============================] - 8s 323us/step - loss: 0.1147 - acc: 0.9652 - val_loss: 0.5337 - val_acc: 0.8724\n",
      "Epoch 18/20\n",
      "25000/25000 [==============================] - 8s 326us/step - loss: 0.1158 - acc: 0.9647 - val_loss: 0.5574 - val_acc: 0.8742\n",
      "Epoch 19/20\n",
      "25000/25000 [==============================] - 8s 336us/step - loss: 0.1055 - acc: 0.9687 - val_loss: 0.5576 - val_acc: 0.8709\n",
      "Epoch 20/20\n",
      "25000/25000 [==============================] - 8s 327us/step - loss: 0.1104 - acc: 0.9668 - val_loss: 0.5889 - val_acc: 0.8736\n"
     ]
    }
   ],
   "source": [
    "dpt_model_hist = dpt_model.fit(x_train, y_train,\n",
    "                               epochs=20,\n",
    "                               batch_size=512,\n",
    "                               validation_data=(x_test, y_test))"
   ]
  },
  {
   "cell_type": "code",
   "execution_count": 17,
   "metadata": {},
   "outputs": [
    {
     "data": {
      "image/png": "[encoded data removed]",
      "text/plain": [
       "<Figure size 432x288 with 1 Axes>"
      ]
     },
     "metadata": {
      "needs_background": "light"
     },
     "output_type": "display_data"
    }
   ],
   "source": [
    "dpt_model_val_loss = dpt_model_hist.history['val_loss']\n",
    "\n",
    "plt.plot(epochs, original_val_loss, 'b+', label='Original model')\n",
    "plt.plot(epochs, dpt_model_val_loss, 'bo', label='Dropout-regularized model')\n",
    "plt.xlabel('Epochs')\n",
    "plt.ylabel('Validation loss')\n",
    "plt.legend()\n",
    "\n",
    "plt.show()"
   ]
  },
  {
   "cell_type": "code",
   "execution_count": null,
   "metadata": {},
   "outputs": [],
   "source": []
  }
 ],
 "metadata": {
  "kernelspec": {
   "display_name": "Python 3",
   "language": "python",
   "name": "python3"
  },
  "language_info": {
   "codemirror_mode": {
    "name": "ipython",
    "version": 3
   },
   "file_extension": ".py",
   "mimetype": "text/x-python",
   "name": "python",
   "nbconvert_exporter": "python",
   "pygments_lexer": "ipython3",
   "version": "3.6.7"
  }
 },
 "nbformat": 4,
 "nbformat_minor": 2
}
