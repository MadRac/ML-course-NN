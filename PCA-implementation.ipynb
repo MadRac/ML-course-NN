{
 "cells": [
  {
   "cell_type": "markdown",
   "metadata": {},
   "source": [
    "# Реализация метода главных компонент"
   ]
  },
  {
   "cell_type": "code",
   "execution_count": 1,
   "metadata": {},
   "outputs": [],
   "source": [
    "import numpy as np\n",
    "import matplotlib\n",
    "import matplotlib.pyplot as plt\n",
    "%matplotlib inline"
   ]
  },
  {
   "cell_type": "code",
   "execution_count": 2,
   "metadata": {},
   "outputs": [],
   "source": [
    "# задаём начальное значение ГСЧ для воспроизводимости результатов\n",
    "np.random.seed(seed=333)"
   ]
  },
  {
   "cell_type": "markdown",
   "metadata": {},
   "source": [
    "## Генерация признаков с линейной зависимостью"
   ]
  },
  {
   "cell_type": "code",
   "execution_count": 3,
   "metadata": {},
   "outputs": [
    {
     "name": "stdout",
     "output_type": "stream",
     "text": [
      "[[ 1.          2.          3.          4.          5.          6.\n",
      "   7.          8.          9.         10.        ]\n",
      " [ 5.43436858  4.64938666  5.0509132   7.72416339 11.04987914 11.28432833\n",
      "  12.54359016 14.71582709 17.36590469 17.56199714]]\n"
     ]
    }
   ],
   "source": [
    "x = np.arange(1,11)\n",
    "y = 2 * x + np.random.randn(10)*2\n",
    "X = np.vstack((x,y))\n",
    "print(X)"
   ]
  },
  {
   "cell_type": "code",
   "execution_count": 4,
   "metadata": {},
   "outputs": [
    {
     "data": {
      "text/plain": [
       "[<matplotlib.lines.Line2D at 0x1fea55ed828>]"
      ]
     },
     "execution_count": 4,
     "metadata": {},
     "output_type": "execute_result"
    },
    {
     "data": {
      "image/png": "[encoded data removed]",
      "text/plain": [
       "<Figure size 432x288 with 1 Axes>"
      ]
     },
     "metadata": {
      "needs_background": "light"
     },
     "output_type": "display_data"
    }
   ],
   "source": [
    "plt.plot(x, y, 'bo')"
   ]
  },
  {
   "cell_type": "markdown",
   "metadata": {},
   "source": [
    "## Центрирование данных"
   ]
  },
  {
   "cell_type": "code",
   "execution_count": 5,
   "metadata": {},
   "outputs": [
    {
     "name": "stdout",
     "output_type": "stream",
     "text": [
      "(array([-4.5, -3.5, -2.5, -1.5, -0.5,  0.5,  1.5,  2.5,  3.5,  4.5]), array([-5.30366725, -6.08864918, -5.68712264, -3.01387244,  0.3118433 ,\n",
      "        0.5462925 ,  1.80555433,  3.97779125,  6.62786885,  6.8239613 ]))\n",
      "Mean vector:  (5.5, 10.738035839550268)\n"
     ]
    }
   ],
   "source": [
    "Xcentered = (X[0] - x.mean(), X[1] - y.mean())\n",
    "m = (x.mean(), y.mean())\n",
    "print(Xcentered)\n",
    "print(\"Mean vector: \", m)"
   ]
  },
  {
   "cell_type": "code",
   "execution_count": 6,
   "metadata": {},
   "outputs": [
    {
     "data": {
      "text/plain": [
       "[<matplotlib.lines.Line2D at 0x1fea5683e10>]"
      ]
     },
     "execution_count": 6,
     "metadata": {},
     "output_type": "execute_result"
    },
    {
     "data": {
      "image/png": "[encoded data removed]",
      "text/plain": [
       "<Figure size 432x288 with 1 Axes>"
      ]
     },
     "metadata": {
      "needs_background": "light"
     },
     "output_type": "display_data"
    }
   ],
   "source": [
    "plt.plot(Xcentered[0], Xcentered[1], 'bo')"
   ]
  },
  {
   "cell_type": "markdown",
   "metadata": {},
   "source": [
    "## Построение ковариационной матрицы"
   ]
  },
  {
   "cell_type": "code",
   "execution_count": 7,
   "metadata": {},
   "outputs": [
    {
     "name": "stdout",
     "output_type": "stream",
     "text": [
      "[[ 9.16666667 14.5100879 ]\n",
      " [14.5100879  24.06677232]] \n",
      "\n",
      "Variance of X:  9.166666666666666\n",
      "Variance of Y:  24.06677231982029\n",
      "Covariance X and Y:  14.510087896623931\n"
     ]
    }
   ],
   "source": [
    "covmat = np.cov(Xcentered)\n",
    "print(covmat, \"\\n\")\n",
    "print(\"Variance of X: \", np.cov(Xcentered)[0,0])\n",
    "print(\"Variance of Y: \", np.cov(Xcentered)[1,1])\n",
    "print(\"Covariance X and Y: \", np.cov(Xcentered)[0,1])"
   ]
  },
  {
   "cell_type": "markdown",
   "metadata": {},
   "source": [
    "## Вычисление собственных векторов"
   ]
  },
  {
   "cell_type": "code",
   "execution_count": 8,
   "metadata": {},
   "outputs": [
    {
     "data": {
      "text/plain": [
       "array([[-0.85344965, -0.5211753 ],\n",
       "       [ 0.5211753 , -0.85344965]])"
      ]
     },
     "execution_count": 8,
     "metadata": {},
     "output_type": "execute_result"
    }
   ],
   "source": [
    "_, vecs = np.linalg.eig(covmat)\n",
    "vecs"
   ]
  },
  {
   "cell_type": "markdown",
   "metadata": {},
   "source": [
    "## Получение вектора главных компонент"
   ]
  },
  {
   "cell_type": "code",
   "execution_count": 9,
   "metadata": {},
   "outputs": [
    {
     "data": {
      "text/plain": [
       "array([0.5211753 , 0.85344965])"
      ]
     },
     "execution_count": 9,
     "metadata": {},
     "output_type": "execute_result"
    }
   ],
   "source": [
    "v = -vecs[:,1]\n",
    "v"
   ]
  },
  {
   "cell_type": "code",
   "execution_count": 10,
   "metadata": {},
   "outputs": [
    {
     "data": {
      "text/plain": [
       "array([-6.87170182e+00, -7.02046906e+00, -6.15661108e+00, -3.35395134e+00,\n",
       "        5.55490111e-03,  7.26820790e-01,  2.32271266e+00,  4.69778280e+00,\n",
       "        7.48066590e+00,  8.16919624e+00])"
      ]
     },
     "execution_count": 10,
     "metadata": {},
     "output_type": "execute_result"
    }
   ],
   "source": [
    "Xnew = np.dot(v, Xcentered)\n",
    "Xnew"
   ]
  },
  {
   "cell_type": "code",
   "execution_count": 16,
   "metadata": {},
   "outputs": [
    {
     "data": {
      "text/plain": [
       "[<matplotlib.lines.Line2D at 0x1feadde9d68>]"
      ]
     },
     "execution_count": 16,
     "metadata": {},
     "output_type": "execute_result"
    },
    {
     "data": {
      "image/png": "[encoded data removed]",
      "text/plain": [
       "<Figure size 432x288 with 1 Axes>"
      ]
     },
     "metadata": {
      "needs_background": "light"
     },
     "output_type": "display_data"
    }
   ],
   "source": [
    "plt.plot([1,2], v)"
   ]
  },
  {
   "cell_type": "markdown",
   "metadata": {},
   "source": [
    "## Восстановление исходных данных"
   ]
  },
  {
   "cell_type": "code",
   "execution_count": 11,
   "metadata": {},
   "outputs": [
    {
     "name": "stdout",
     "output_type": "stream",
     "text": [
      "Restored:  [ 9.75758332 17.71003351]\n",
      "Original:  [10.         17.56199714]\n"
     ]
    }
   ],
   "source": [
    "n = 9     #номер элемента случайной величины\n",
    "Xrestored = np.dot(Xnew[n], v) + m\n",
    "print('Restored: ', Xrestored)\n",
    "print('Original: ', X[:,n])"
   ]
  },
  {
   "cell_type": "markdown",
   "metadata": {},
   "source": [
    "## Проверка алгоритма"
   ]
  },
  {
   "cell_type": "code",
   "execution_count": 12,
   "metadata": {},
   "outputs": [],
   "source": [
    "from sklearn.decomposition import PCA\n",
    "\n",
    "pca = PCA(n_components = 1)\n",
    "\n",
    "XPCAreduced = pca.fit_transform(np.transpose(X))"
   ]
  },
  {
   "cell_type": "code",
   "execution_count": 13,
   "metadata": {},
   "outputs": [
    {
     "name": "stdout",
     "output_type": "stream",
     "text": [
      "Our reduced X: \n",
      " [-6.87170182e+00 -7.02046906e+00 -6.15661108e+00 -3.35395134e+00\n",
      "  5.55490111e-03  7.26820790e-01  2.32271266e+00  4.69778280e+00\n",
      "  7.48066590e+00  8.16919624e+00]\n",
      "Sklearn reduced X: \n",
      " [[-6.87170182e+00]\n",
      " [-7.02046906e+00]\n",
      " [-6.15661108e+00]\n",
      " [-3.35395134e+00]\n",
      " [ 5.55490111e-03]\n",
      " [ 7.26820790e-01]\n",
      " [ 2.32271266e+00]\n",
      " [ 4.69778280e+00]\n",
      " [ 7.48066590e+00]\n",
      " [ 8.16919624e+00]]\n"
     ]
    }
   ],
   "source": [
    "print('Our reduced X: \\n', Xnew)\n",
    "print('Sklearn reduced X: \\n', XPCAreduced)"
   ]
  },
  {
   "cell_type": "code",
   "execution_count": 14,
   "metadata": {},
   "outputs": [
    {
     "name": "stdout",
     "output_type": "stream",
     "text": [
      "Вектор средних:  [ 5.5        10.73803584] (5.5, 10.738035839550268)\n",
      "Вектор(матрица) проекции:  [[0.5211753  0.85344965]] [0.5211753  0.85344965]\n",
      "Доля информации (доля от общей дисперсии):  [0.99079828]\n"
     ]
    }
   ],
   "source": [
    "print('Вектор средних: ', pca.mean_, m)\n",
    "print('Вектор(матрица) проекции: ', pca.components_, v)\n",
    "print('Доля информации (доля от общей дисперсии): ', pca.explained_variance_ratio_)"
   ]
  }
 ],
 "metadata": {
  "kernelspec": {
   "display_name": "Python 3",
   "language": "python",
   "name": "python3"
  },
  "language_info": {
   "codemirror_mode": {
    "name": "ipython",
    "version": 3
   },
   "file_extension": ".py",
   "mimetype": "text/x-python",
   "name": "python",
   "nbconvert_exporter": "python",
   "pygments_lexer": "ipython3",
   "version": "3.6.7"
  }
 },
 "nbformat": 4,
 "nbformat_minor": 2
}
