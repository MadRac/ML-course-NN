{
 "cells": [
  {
   "cell_type": "code",
   "execution_count": 1,
   "metadata": {},
   "outputs": [
    {
     "name": "stderr",
     "output_type": "stream",
     "text": [
      "Using TensorFlow backend.\n"
     ]
    },
    {
     "data": {
      "text/plain": [
       "'2.2.4'"
      ]
     },
     "execution_count": 1,
     "metadata": {},
     "output_type": "execute_result"
    }
   ],
   "source": [
    "import keras\n",
    "keras.__version__"
   ]
  },
  {
   "cell_type": "code",
   "execution_count": 2,
   "metadata": {},
   "outputs": [],
   "source": [
    "from keras.datasets import reuters\n",
    "\n",
    "(train_data, train_labels), (test_data, test_labels) = reuters.load_data(num_words=10000)"
   ]
  },
  {
   "cell_type": "code",
   "execution_count": 3,
   "metadata": {},
   "outputs": [
    {
     "name": "stdout",
     "output_type": "stream",
     "text": [
      "(8982,) (8982,) (2246,) (2246,)\n"
     ]
    }
   ],
   "source": [
    "print(train_data.shape, train_labels.shape, test_data.shape, test_labels.shape)"
   ]
  },
  {
   "cell_type": "code",
   "execution_count": 6,
   "metadata": {},
   "outputs": [
    {
     "name": "stdout",
     "output_type": "stream",
     "text": [
      "45 [ 3  4  3  4  4  4  4  3  3 16  3  3  4  4 19  8 16  3  3 21]\n"
     ]
    }
   ],
   "source": [
    "print(max(train_labels), train_labels[:20])"
   ]
  },
  {
   "cell_type": "code",
   "execution_count": 8,
   "metadata": {},
   "outputs": [
    {
     "data": {
      "text/plain": [
       "[1, 2, 2, 8, 43, 10, 447, 5, 25, 207]"
      ]
     },
     "execution_count": 8,
     "metadata": {},
     "output_type": "execute_result"
    }
   ],
   "source": [
    "train_data[0][:10]"
   ]
  },
  {
   "cell_type": "code",
   "execution_count": 9,
   "metadata": {},
   "outputs": [],
   "source": [
    "# ф-ция для получения текста отзыва\n",
    "def get_news_text(news_int_vector):\n",
    "    # word_index - это словарь, каждому слову сопоставляющий числовой индекс\n",
    "    # https://s3.amazonaws.com/text-datasets/reuters_word_index.json\n",
    "    word_index = reuters.get_word_index()\n",
    "    # преобразуем словарь чтобы каждому числовому индексу соответствовало слово\n",
    "    reverse_word_index = dict([(value, key) for (key, value) in word_index.items()])\n",
    "    # We decode the review; note that our indices were offset by 3\n",
    "    # преобразуем вектор индексов в текст с помощью словаря. Индекс слов имеет смещение 3,\n",
    "    # т.к. индексы 0, 1 and 2 зарезервированы для \"padding\", \"start of sequence\", и \"unknown\".\n",
    "    decoded_review = ' '.join([reverse_word_index.get(i - 3, '?') for i in news_int_vector])\n",
    "    return decoded_review"
   ]
  },
  {
   "cell_type": "code",
   "execution_count": 10,
   "metadata": {},
   "outputs": [
    {
     "data": {
      "text/plain": [
       "'? ? ? said as a result of its december acquisition of space co it expects earnings per share in 1987 of 1 15 to 1 30 dlrs per share up from 70 cts in 1986 the company said pretax net should rise to nine to 10 mln dlrs from six mln dlrs in 1986 and rental operation revenues to 19 to 22 mln dlrs from 12 5 mln dlrs it said cash flow per share this year should be 2 50 to three dlrs reuter 3'"
      ]
     },
     "execution_count": 10,
     "metadata": {},
     "output_type": "execute_result"
    }
   ],
   "source": [
    "get_news_text(train_data[0])"
   ]
  },
  {
   "cell_type": "code",
   "execution_count": 11,
   "metadata": {},
   "outputs": [],
   "source": [
    "import numpy as np\n",
    "\n",
    "# ф-ция векторизации новостей - преобразования в массив размером 10000\n",
    "def vectorize_sequences(sequences, dimension=10000):\n",
    "    results = np.zeros((len(sequences), dimension))\n",
    "    for i, sequence in enumerate(sequences):\n",
    "        results[i, sequence] = 1.\n",
    "    return results\n",
    "\n",
    "# Our vectorized training data\n",
    "x_train = vectorize_sequences(train_data)\n",
    "# Our vectorized test data\n",
    "x_test = vectorize_sequences(test_data)"
   ]
  },
  {
   "cell_type": "code",
   "execution_count": 13,
   "metadata": {},
   "outputs": [
    {
     "name": "stdout",
     "output_type": "stream",
     "text": [
      "(8982, 10000) [0. 1. 1. 0. 1. 1. 1. 1. 1. 1. 1. 1. 1. 0. 0. 1. 1. 1. 0. 1.]\n"
     ]
    }
   ],
   "source": [
    "print(x_train.shape, x_train[0][:20])"
   ]
  },
  {
   "cell_type": "code",
   "execution_count": 6,
   "metadata": {},
   "outputs": [],
   "source": [
    "# собственная реализация преобразования вектора номеров классов в бинарный вектор\n",
    "def to_one_hot(labels, dimension=46):\n",
    "    results = np.zeros((len(labels), dimension))\n",
    "    for i, label in enumerate(labels):\n",
    "        results[i, label] = 1.\n",
    "    return results\n",
    "\n",
    "# Our vectorized training labels\n",
    "one_hot_train_labels = to_one_hot(train_labels)\n",
    "# Our vectorized test labels\n",
    "one_hot_test_labels = to_one_hot(test_labels)"
   ]
  },
  {
   "cell_type": "code",
   "execution_count": 14,
   "metadata": {},
   "outputs": [],
   "source": [
    "# использование стандартной функции преобразования метки класса в бинарный вектор (категориальный тип)\n",
    "from keras.utils.np_utils import to_categorical\n",
    "\n",
    "one_hot_train_labels = to_categorical(train_labels)\n",
    "one_hot_test_labels = to_categorical(test_labels)"
   ]
  },
  {
   "cell_type": "code",
   "execution_count": 16,
   "metadata": {},
   "outputs": [
    {
     "name": "stdout",
     "output_type": "stream",
     "text": [
      "(8982, 46) [[0. 0. 0. 1. 0. 0. 0. 0. 0. 0. 0. 0. 0. 0. 0. 0. 0. 0. 0. 0. 0. 0. 0. 0.\n",
      "  0. 0. 0. 0. 0. 0. 0. 0. 0. 0. 0. 0. 0. 0. 0. 0. 0. 0. 0. 0. 0. 0.]\n",
      " [0. 0. 0. 0. 1. 0. 0. 0. 0. 0. 0. 0. 0. 0. 0. 0. 0. 0. 0. 0. 0. 0. 0. 0.\n",
      "  0. 0. 0. 0. 0. 0. 0. 0. 0. 0. 0. 0. 0. 0. 0. 0. 0. 0. 0. 0. 0. 0.]\n",
      " [0. 0. 0. 1. 0. 0. 0. 0. 0. 0. 0. 0. 0. 0. 0. 0. 0. 0. 0. 0. 0. 0. 0. 0.\n",
      "  0. 0. 0. 0. 0. 0. 0. 0. 0. 0. 0. 0. 0. 0. 0. 0. 0. 0. 0. 0. 0. 0.]\n",
      " [0. 0. 0. 0. 1. 0. 0. 0. 0. 0. 0. 0. 0. 0. 0. 0. 0. 0. 0. 0. 0. 0. 0. 0.\n",
      "  0. 0. 0. 0. 0. 0. 0. 0. 0. 0. 0. 0. 0. 0. 0. 0. 0. 0. 0. 0. 0. 0.]\n",
      " [0. 0. 0. 0. 1. 0. 0. 0. 0. 0. 0. 0. 0. 0. 0. 0. 0. 0. 0. 0. 0. 0. 0. 0.\n",
      "  0. 0. 0. 0. 0. 0. 0. 0. 0. 0. 0. 0. 0. 0. 0. 0. 0. 0. 0. 0. 0. 0.]]\n"
     ]
    }
   ],
   "source": [
    "print(one_hot_train_labels.shape, one_hot_train_labels[:5])"
   ]
  },
  {
   "cell_type": "code",
   "execution_count": 21,
   "metadata": {},
   "outputs": [
    {
     "name": "stdout",
     "output_type": "stream",
     "text": [
      "_________________________________________________________________\n",
      "Layer (type)                 Output Shape              Param #   \n",
      "=================================================================\n",
      "dense_4 (Dense)              (None, 64)                640064    \n",
      "_________________________________________________________________\n",
      "dense_5 (Dense)              (None, 64)                4160      \n",
      "_________________________________________________________________\n",
      "dense_6 (Dense)              (None, 46)                2990      \n",
      "=================================================================\n",
      "Total params: 647,214\n",
      "Trainable params: 647,214\n",
      "Non-trainable params: 0\n",
      "_________________________________________________________________\n"
     ]
    }
   ],
   "source": [
    "from keras import models\n",
    "from keras import layers\n",
    "\n",
    "model = models.Sequential()\n",
    "model.add(layers.Dense(64, activation='relu', input_shape=(10000,)))\n",
    "model.add(layers.Dense(64, activation='relu'))\n",
    "model.add(layers.Dense(46, activation='softmax')) # кол-во нейронов в выходном слое = кол-ву классов\n",
    "model.summary()"
   ]
  },
  {
   "cell_type": "code",
   "execution_count": 18,
   "metadata": {},
   "outputs": [],
   "source": [
    "model.compile(optimizer='rmsprop',\n",
    "              loss='categorical_crossentropy',\n",
    "              metrics=['accuracy'])"
   ]
  },
  {
   "cell_type": "code",
   "execution_count": 19,
   "metadata": {},
   "outputs": [],
   "source": [
    "# разделение на обучающую и валидационную выборку\n",
    "x_val = x_train[:1000]\n",
    "partial_x_train = x_train[1000:]\n",
    "\n",
    "y_val = one_hot_train_labels[:1000]\n",
    "partial_y_train = one_hot_train_labels[1000:]"
   ]
  },
  {
   "cell_type": "code",
   "execution_count": 20,
   "metadata": {},
   "outputs": [
    {
     "name": "stdout",
     "output_type": "stream",
     "text": [
      "Train on 7982 samples, validate on 1000 samples\n",
      "Epoch 1/20\n",
      "7982/7982 [==============================] - 3s 390us/step - loss: 2.5238 - acc: 0.4975 - val_loss: 1.7189 - val_acc: 0.6120\n",
      "Epoch 2/20\n",
      "7982/7982 [==============================] - 2s 266us/step - loss: 1.4448 - acc: 0.6891 - val_loss: 1.3498 - val_acc: 0.7080\n",
      "Epoch 3/20\n",
      "7982/7982 [==============================] - 2s 304us/step - loss: 1.0983 - acc: 0.7645 - val_loss: 1.1745 - val_acc: 0.7410\n",
      "Epoch 4/20\n",
      "7982/7982 [==============================] - 2s 289us/step - loss: 0.8723 - acc: 0.8160 - val_loss: 1.0789 - val_acc: 0.7600\n",
      "Epoch 5/20\n",
      "7982/7982 [==============================] - 2s 276us/step - loss: 0.7056 - acc: 0.8480 - val_loss: 0.9861 - val_acc: 0.7850\n",
      "Epoch 6/20\n",
      "7982/7982 [==============================] - 2s 274us/step - loss: 0.5685 - acc: 0.8791 - val_loss: 0.9413 - val_acc: 0.8060\n",
      "Epoch 7/20\n",
      "7982/7982 [==============================] - 2s 303us/step - loss: 0.4611 - acc: 0.9033 - val_loss: 0.9102 - val_acc: 0.8030\n",
      "Epoch 8/20\n",
      "7982/7982 [==============================] - 2s 274us/step - loss: 0.3717 - acc: 0.9225 - val_loss: 0.9344 - val_acc: 0.7900\n",
      "Epoch 9/20\n",
      "7982/7982 [==============================] - 2s 288us/step - loss: 0.3042 - acc: 0.9313 - val_loss: 0.8911 - val_acc: 0.8060\n",
      "Epoch 10/20\n",
      "7982/7982 [==============================] - 2s 296us/step - loss: 0.2544 - acc: 0.9419 - val_loss: 0.9079 - val_acc: 0.8130\n",
      "Epoch 11/20\n",
      "7982/7982 [==============================] - 3s 328us/step - loss: 0.2187 - acc: 0.9473 - val_loss: 0.9189 - val_acc: 0.8100\n",
      "Epoch 12/20\n",
      "7982/7982 [==============================] - 2s 308us/step - loss: 0.1874 - acc: 0.9510 - val_loss: 0.9059 - val_acc: 0.8140\n",
      "Epoch 13/20\n",
      "7982/7982 [==============================] - 2s 284us/step - loss: 0.1702 - acc: 0.9526 - val_loss: 0.9355 - val_acc: 0.8090\n",
      "Epoch 14/20\n",
      "7982/7982 [==============================] - 3s 328us/step - loss: 0.1535 - acc: 0.9555 - val_loss: 0.9657 - val_acc: 0.8040\n",
      "Epoch 15/20\n",
      "7982/7982 [==============================] - 2s 284us/step - loss: 0.1389 - acc: 0.9559 - val_loss: 0.9698 - val_acc: 0.8120\n",
      "Epoch 16/20\n",
      "7982/7982 [==============================] - 2s 265us/step - loss: 0.1312 - acc: 0.9555 - val_loss: 1.0267 - val_acc: 0.8050\n",
      "Epoch 17/20\n",
      "7982/7982 [==============================] - 2s 264us/step - loss: 0.1219 - acc: 0.9577 - val_loss: 1.0232 - val_acc: 0.7980\n",
      "Epoch 18/20\n",
      "7982/7982 [==============================] - 2s 264us/step - loss: 0.1199 - acc: 0.9573 - val_loss: 1.0436 - val_acc: 0.8060\n",
      "Epoch 19/20\n",
      "7982/7982 [==============================] - 2s 267us/step - loss: 0.1138 - acc: 0.9598 - val_loss: 1.0946 - val_acc: 0.7950\n",
      "Epoch 20/20\n",
      "7982/7982 [==============================] - 2s 288us/step - loss: 0.1112 - acc: 0.9594 - val_loss: 1.0690 - val_acc: 0.8000\n"
     ]
    }
   ],
   "source": [
    "# обучение и сохранение результатов\n",
    "history = model.fit(partial_x_train,\n",
    "                    partial_y_train,\n",
    "                    epochs=20,\n",
    "                    batch_size=512,\n",
    "                    validation_data=(x_val, y_val))"
   ]
  },
  {
   "cell_type": "code",
   "execution_count": 22,
   "metadata": {},
   "outputs": [
    {
     "data": {
      "image/png": "[encoded data removed]",
      "text/plain": [
       "<Figure size 432x288 with 1 Axes>"
      ]
     },
     "metadata": {
      "needs_background": "light"
     },
     "output_type": "display_data"
    }
   ],
   "source": [
    "import matplotlib.pyplot as plt\n",
    "%matplotlib inline\n",
    "\n",
    "loss = history.history['loss']\n",
    "val_loss = history.history['val_loss']\n",
    "\n",
    "epochs = range(1, len(loss) + 1)\n",
    "\n",
    "plt.plot(epochs, loss, 'bo', label='Training loss')\n",
    "plt.plot(epochs, val_loss, 'b', label='Validation loss')\n",
    "plt.title('Training and validation loss')\n",
    "plt.xlabel('Epochs')\n",
    "plt.ylabel('Loss')\n",
    "plt.legend()\n",
    "\n",
    "plt.show()"
   ]
  },
  {
   "cell_type": "code",
   "execution_count": 23,
   "metadata": {},
   "outputs": [
    {
     "data": {
      "text/plain": [
       "0.8911306042671203"
      ]
     },
     "execution_count": 23,
     "metadata": {},
     "output_type": "execute_result"
    }
   ],
   "source": [
    "min(history.history['val_loss'])"
   ]
  },
  {
   "cell_type": "code",
   "execution_count": 25,
   "metadata": {},
   "outputs": [
    {
     "data": {
      "image/png": "[encoded data removed]",
      "text/plain": [
       "<Figure size 432x288 with 1 Axes>"
      ]
     },
     "metadata": {
      "needs_background": "light"
     },
     "output_type": "display_data"
    }
   ],
   "source": [
    "plt.clf()   # clear figure\n",
    "\n",
    "acc = history.history['acc']\n",
    "val_acc = history.history['val_acc']\n",
    "\n",
    "plt.plot(epochs, acc, 'bo', label='Training acc')\n",
    "plt.plot(epochs, val_acc, 'b', label='Validation acc')\n",
    "plt.title('Training and validation accuracy')\n",
    "plt.xlabel('Epochs')\n",
    "plt.ylabel('Accuracy')\n",
    "plt.legend()\n",
    "\n",
    "plt.show()"
   ]
  },
  {
   "cell_type": "code",
   "execution_count": 26,
   "metadata": {},
   "outputs": [
    {
     "name": "stdout",
     "output_type": "stream",
     "text": [
      "Train on 7982 samples, validate on 1000 samples\n",
      "Epoch 1/8\n",
      "7982/7982 [==============================] - 3s 341us/step - loss: 2.8044 - acc: 0.5038 - val_loss: 1.8419 - val_acc: 0.6310\n",
      "Epoch 2/8\n",
      "7982/7982 [==============================] - 2s 262us/step - loss: 1.5295 - acc: 0.6948 - val_loss: 1.3372 - val_acc: 0.7080\n",
      "Epoch 3/8\n",
      "7982/7982 [==============================] - 2s 261us/step - loss: 1.1160 - acc: 0.7689 - val_loss: 1.1404 - val_acc: 0.7480\n",
      "Epoch 4/8\n",
      "7982/7982 [==============================] - 2s 263us/step - loss: 0.8744 - acc: 0.8151 - val_loss: 1.0312 - val_acc: 0.7840\n",
      "Epoch 5/8\n",
      "7982/7982 [==============================] - 2s 294us/step - loss: 0.7050 - acc: 0.8475 - val_loss: 0.9690 - val_acc: 0.8020\n",
      "Epoch 6/8\n",
      "7982/7982 [==============================] - 2s 270us/step - loss: 0.5674 - acc: 0.8755 - val_loss: 0.9419 - val_acc: 0.7980\n",
      "Epoch 7/8\n",
      "7982/7982 [==============================] - 2s 271us/step - loss: 0.4573 - acc: 0.9069 - val_loss: 0.9238 - val_acc: 0.7990\n",
      "Epoch 8/8\n",
      "7982/7982 [==============================] - 2s 309us/step - loss: 0.3713 - acc: 0.9235 - val_loss: 0.9686 - val_acc: 0.7900\n",
      "2246/2246 [==============================] - 1s 324us/step\n"
     ]
    }
   ],
   "source": [
    "model = models.Sequential()\n",
    "model.add(layers.Dense(64, activation='relu', input_shape=(10000,)))\n",
    "model.add(layers.Dense(64, activation='relu'))\n",
    "model.add(layers.Dense(46, activation='softmax'))\n",
    "\n",
    "model.compile(optimizer='rmsprop',\n",
    "              loss='categorical_crossentropy',\n",
    "              metrics=['accuracy'])\n",
    "model.fit(partial_x_train,\n",
    "          partial_y_train,\n",
    "          epochs=8,\n",
    "          batch_size=512,\n",
    "          validation_data=(x_val, y_val))\n",
    "results = model.evaluate(x_test, one_hot_test_labels)"
   ]
  },
  {
   "cell_type": "code",
   "execution_count": 27,
   "metadata": {},
   "outputs": [
    {
     "data": {
      "text/plain": [
       "[1.0273448684230406, 0.7671415850931474]"
      ]
     },
     "execution_count": 27,
     "metadata": {},
     "output_type": "execute_result"
    }
   ],
   "source": [
    "results"
   ]
  },
  {
   "cell_type": "code",
   "execution_count": 28,
   "metadata": {},
   "outputs": [
    {
     "data": {
      "text/plain": [
       "0.19679430097951914"
      ]
     },
     "execution_count": 28,
     "metadata": {},
     "output_type": "execute_result"
    }
   ],
   "source": [
    "import copy\n",
    "\n",
    "test_labels_copy = copy.copy(test_labels)\n",
    "np.random.shuffle(test_labels_copy)\n",
    "float(np.sum(np.array(test_labels) == np.array(test_labels_copy))) / len(test_labels)"
   ]
  },
  {
   "cell_type": "code",
   "execution_count": 29,
   "metadata": {},
   "outputs": [],
   "source": [
    "predictions = model.predict(x_test)"
   ]
  },
  {
   "cell_type": "code",
   "execution_count": 30,
   "metadata": {},
   "outputs": [
    {
     "data": {
      "text/plain": [
       "(46,)"
      ]
     },
     "execution_count": 30,
     "metadata": {},
     "output_type": "execute_result"
    }
   ],
   "source": [
    "predictions[0].shape"
   ]
  },
  {
   "cell_type": "code",
   "execution_count": 35,
   "metadata": {},
   "outputs": [
    {
     "data": {
      "text/plain": [
       "array([[3.82024991e-05, 1.78306673e-05, 5.83891165e-07, 9.98285472e-01,\n",
       "        6.25412387e-04, 5.34379751e-07, 9.14283282e-06, 8.24640938e-06,\n",
       "        1.63516786e-04, 6.24634458e-06, 8.50677498e-06, 2.17489705e-05,\n",
       "        1.59012670e-05, 5.62853929e-05, 7.28233908e-06, 4.74794570e-06,\n",
       "        2.57755237e-05, 1.55640168e-06, 2.75208436e-07, 3.89845918e-05,\n",
       "        1.84502191e-04, 1.66306738e-04, 9.95002324e-07, 3.44623295e-05,\n",
       "        6.84914085e-06, 1.78239259e-06, 5.15297870e-07, 3.56951568e-06,\n",
       "        3.85270414e-06, 8.04993670e-06, 1.07915830e-05, 1.18998098e-04,\n",
       "        1.08006270e-06, 3.07470941e-06, 4.70756786e-05, 2.79142995e-07,\n",
       "        2.92764871e-05, 1.85806186e-06, 5.21615993e-06, 2.72501220e-05,\n",
       "        1.03443988e-07, 2.15138084e-06, 1.00664761e-06, 4.45245360e-06,\n",
       "        5.12657579e-08, 3.19440147e-07],\n",
       "       [5.83155034e-03, 1.19579576e-01, 1.73321776e-02, 2.04518763e-03,\n",
       "        6.07251888e-04, 3.47936712e-02, 1.18853222e-03, 2.56298401e-04,\n",
       "        1.61715376e-04, 1.46222129e-01, 4.67775047e-01, 2.85757869e-03,\n",
       "        1.75448265e-02, 9.55366879e-04, 1.44350494e-03, 3.12992750e-04,\n",
       "        9.50133719e-04, 1.58661287e-02, 1.82655538e-04, 3.46466288e-04,\n",
       "        1.61581263e-02, 2.20821079e-04, 5.07493096e-04, 1.50236464e-03,\n",
       "        1.85606144e-02, 2.57054926e-03, 3.62971681e-04, 8.86676251e-04,\n",
       "        4.13137488e-02, 8.63690581e-03, 7.39666494e-03, 1.18533280e-02,\n",
       "        2.07562130e-02, 1.12126686e-03, 1.03389472e-03, 1.83308715e-04,\n",
       "        9.91691835e-03, 3.80641664e-03, 4.63603676e-04, 8.68602656e-05,\n",
       "        9.62174218e-03, 6.44007605e-03, 5.13212617e-05, 1.91901709e-04,\n",
       "        5.25835276e-05, 5.08121957e-05],\n",
       "       [3.18898470e-03, 7.56364286e-01, 1.55056585e-02, 2.79618558e-02,\n",
       "        4.85077995e-04, 6.87866472e-03, 1.35848699e-02, 4.63372533e-04,\n",
       "        8.49605130e-04, 1.48707414e-02, 9.22591705e-03, 7.58535974e-03,\n",
       "        7.49357836e-03, 1.98930409e-02, 5.78704407e-04, 1.68350362e-03,\n",
       "        2.69315485e-03, 3.36483587e-03, 2.59131222e-04, 9.61525249e-04,\n",
       "        2.81638466e-03, 1.54052308e-04, 4.80874092e-04, 1.72623969e-03,\n",
       "        1.49651337e-02, 9.77891264e-04, 5.49046090e-04, 7.73423410e-04,\n",
       "        6.77759573e-02, 8.73097917e-04, 4.55978065e-04, 1.31194445e-03,\n",
       "        2.82155722e-03, 4.66456666e-04, 6.98351767e-04, 1.33549314e-04,\n",
       "        3.35004949e-03, 6.10640855e-04, 2.74542044e-03, 2.32093516e-04,\n",
       "        9.51150549e-04, 4.53849672e-04, 1.42372941e-04, 1.46396022e-04,\n",
       "        1.30982226e-04, 3.65176849e-04],\n",
       "       [3.96711621e-05, 5.29425743e-04, 2.96644372e-04, 3.62341404e-01,\n",
       "        2.96233356e-01, 1.13468152e-04, 3.04219720e-04, 8.41914269e-04,\n",
       "        2.88450159e-03, 3.69076763e-04, 5.80972410e-04, 5.08140132e-04,\n",
       "        3.68275633e-03, 1.87673199e-03, 6.00453990e-04, 1.11480278e-03,\n",
       "        2.41004139e-01, 4.08772146e-03, 3.47934809e-04, 1.18840195e-03,\n",
       "        8.45379569e-03, 2.67742318e-03, 8.85783753e-04, 1.50581477e-02,\n",
       "        2.46020081e-03, 2.34859600e-03, 1.24876286e-04, 3.53076757e-04,\n",
       "        1.54763969e-04, 1.40588090e-03, 1.44275022e-03, 1.11660399e-02,\n",
       "        2.98989238e-04, 5.77286643e-04, 2.73037772e-03, 6.72445822e-05,\n",
       "        4.03768121e-04, 3.16929392e-04, 1.34500006e-04, 2.56515332e-02,\n",
       "        1.87976460e-04, 1.36881182e-03, 1.36908470e-03, 5.48389275e-04,\n",
       "        2.58847522e-05, 8.42145178e-04],\n",
       "       [6.46276603e-05, 7.21215445e-04, 5.05953969e-04, 2.22930778e-03,\n",
       "        1.68898943e-04, 1.31366876e-04, 1.17529440e-03, 6.80676749e-05,\n",
       "        4.03841637e-04, 3.85931140e-04, 6.18505583e-04, 2.63737561e-03,\n",
       "        6.54193514e-04, 9.54941034e-01, 1.03653863e-03, 1.53330257e-04,\n",
       "        1.73339061e-02, 2.05513067e-03, 3.74267431e-04, 4.80068033e-04,\n",
       "        1.05864496e-03, 2.42601061e-04, 1.79388138e-04, 9.92593705e-04,\n",
       "        1.92504772e-03, 2.09545644e-04, 1.21053970e-04, 1.22764730e-04,\n",
       "        2.58808653e-03, 1.84191900e-04, 2.53218954e-04, 2.97792052e-04,\n",
       "        2.45624688e-04, 1.26524610e-05, 2.36581988e-03, 7.82085699e-05,\n",
       "        5.37949381e-04, 1.14270100e-04, 3.21762200e-04, 3.10695381e-04,\n",
       "        1.37068157e-04, 3.15819489e-05, 9.72566122e-05, 1.25400070e-03,\n",
       "        1.36359551e-04, 4.32782435e-05]], dtype=float32)"
      ]
     },
     "execution_count": 35,
     "metadata": {},
     "output_type": "execute_result"
    }
   ],
   "source": [
    "predictions[:5]"
   ]
  },
  {
   "cell_type": "code",
   "execution_count": 31,
   "metadata": {},
   "outputs": [
    {
     "data": {
      "text/plain": [
       "1.0000002"
      ]
     },
     "execution_count": 31,
     "metadata": {},
     "output_type": "execute_result"
    }
   ],
   "source": [
    "np.sum(predictions[0])"
   ]
  },
  {
   "cell_type": "code",
   "execution_count": 32,
   "metadata": {},
   "outputs": [
    {
     "data": {
      "text/plain": [
       "3"
      ]
     },
     "execution_count": 32,
     "metadata": {},
     "output_type": "execute_result"
    }
   ],
   "source": [
    "np.argmax(predictions[0])"
   ]
  }
 ],
 "metadata": {
  "kernelspec": {
   "display_name": "Python 3",
   "language": "python",
   "name": "python3"
  },
  "language_info": {
   "codemirror_mode": {
    "name": "ipython",
    "version": 3
   },
   "file_extension": ".py",
   "mimetype": "text/x-python",
   "name": "python",
   "nbconvert_exporter": "python",
   "pygments_lexer": "ipython3",
   "version": "3.6.7"
  }
 },
 "nbformat": 4,
 "nbformat_minor": 2
}
